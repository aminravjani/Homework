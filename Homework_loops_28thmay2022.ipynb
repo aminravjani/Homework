{
 "cells": [
  {
   "cell_type": "code",
   "execution_count": 2,
   "id": "ee2190fd",
   "metadata": {},
   "outputs": [
    {
     "name": "stdout",
     "output_type": "stream",
     "text": [
      "\n",
      "\n",
      "ineuron \n",
      "\n",
      "ineuron ineuron \n",
      "\n",
      "ineuron ineuron ineuron \n",
      "\n",
      "ineuron ineuron ineuron ineuron \n",
      "\n",
      "ineuron ineuron ineuron ineuron ineuron \n",
      "\n",
      "ineuron ineuron ineuron ineuron ineuron ineuron \n",
      "\n",
      "ineuron ineuron ineuron ineuron ineuron ineuron ineuron \n",
      "\n",
      "ineuron ineuron ineuron ineuron ineuron ineuron ineuron ineuron \n",
      "\n",
      "ineuron ineuron ineuron ineuron ineuron ineuron ineuron ineuron ineuron \n",
      "\n"
     ]
    }
   ],
   "source": [
    "# Q1. print \n",
    "# ineuron\n",
    "# ineuron  ineoron\n",
    "# ineuron ineuron ineuron\n",
    "#sol:\n",
    "\n",
    "n= 10\n",
    "for i in range(0,n):\n",
    "    for j in range(0,i):\n",
    "        print(\"ineuron\", end=\" \")\n",
    "    print(\"\\n\")"
   ]
  },
  {
   "cell_type": "code",
   "execution_count": 3,
   "id": "321b5df4",
   "metadata": {},
   "outputs": [
    {
     "name": "stdout",
     "output_type": "stream",
     "text": [
      "         ineuron  \n",
      "\n",
      "      ineuron  ineuron  \n",
      "\n",
      "   ineuron  ineuron  ineuron  \n",
      "\n",
      "ineuron  ineuron  ineuron  ineuron  \n",
      "\n"
     ]
    }
   ],
   "source": [
    "# q2.print:\n",
    "#                    ineuron\n",
    "#               ineuron   ineuron\n",
    "#         Ineuron    ineuron ineuron  \n",
    "#solution:\n",
    " # number of spaces\n",
    "n=4\n",
    "k = n - 1\n",
    " \n",
    "    # outer loop to handle number of rows\n",
    "for i in range(0, n):\n",
    "     \n",
    "        # inner loop to handle number spaces\n",
    "        # values changing acc. to requirement\n",
    "    for j in range(0, k):\n",
    "            print(end=\"   \")\n",
    "     \n",
    "        # decrementing k after each loop\n",
    "    k = k - 1\n",
    "     \n",
    "        # inner loop to handle number of columns\n",
    "        # values changing acc. to outer loop\n",
    "    for j in range(0, i+1):\n",
    "         \n",
    "            # printing ineuron\n",
    "            print(\"ineuron\", end=\"  \")\n",
    "    print(\"\\n\")\n",
    "            "
   ]
  },
  {
   "cell_type": "code",
   "execution_count": 4,
   "id": "0597c7c0",
   "metadata": {},
   "outputs": [],
   "source": [
    "# q3:\n",
    "l=[[1,2,3,4],(5,6,7,8,9), (10,11,12,13,14),set([15,15,15,16,17,17,18,19,19,20,21,99]),\n",
    "   {\"k1\":\"sudh\", \"k2\": \"ineuron\", \"k3\":\"kuamr\",100:101,102:103},[\"ineuron\",\"datasciece\"]]"
   ]
  },
  {
   "cell_type": "code",
   "execution_count": 5,
   "id": "96dc46a2",
   "metadata": {},
   "outputs": [
    {
     "name": "stdout",
     "output_type": "stream",
     "text": [
      "[1, 2, 3, 4]\n",
      "['ineuron', 'datasciece']\n"
     ]
    }
   ],
   "source": [
    "#q3: try to extract all the list entity\n",
    "\n",
    "for i in l:\n",
    "    if type(i)==list:\n",
    "        print(i)"
   ]
  },
  {
   "cell_type": "code",
   "execution_count": 6,
   "id": "f0eaec00",
   "metadata": {},
   "outputs": [
    {
     "name": "stdout",
     "output_type": "stream",
     "text": [
      "{'k1': 'sudh', 'k2': 'ineuron', 'k3': 'kuamr', 100: 101, 102: 103}\n"
     ]
    }
   ],
   "source": [
    "#q4: try to extract all the dit entities\n",
    "for i in l:\n",
    "    if type(i)==dict:\n",
    "        print(i)"
   ]
  },
  {
   "cell_type": "code",
   "execution_count": 7,
   "id": "96296235",
   "metadata": {},
   "outputs": [
    {
     "data": {
      "text/plain": [
       "[[1, 2, 3, 4],\n",
       " (5, 6, 7, 8, 9),\n",
       " (10, 11, 12, 13, 14),\n",
       " {15, 16, 17, 18, 19, 20, 21, 99},\n",
       " {'k1': 'sudh', 'k2': 'ineuron', 'k3': 'kuamr', 100: 101, 102: 103},\n",
       " ['ineuron', 'datasciece']]"
      ]
     },
     "execution_count": 7,
     "metadata": {},
     "output_type": "execute_result"
    }
   ],
   "source": [
    "l"
   ]
  },
  {
   "cell_type": "code",
   "execution_count": 8,
   "id": "236038b5",
   "metadata": {},
   "outputs": [
    {
     "data": {
      "text/plain": [
       "[[1, 2, 3, 4],\n",
       " (5, 6, 7, 8, 9),\n",
       " (10, 11, 12, 13, 14),\n",
       " {15, 16, 17, 18, 19, 20, 21, 99},\n",
       " {'k1': 'sudh', 'k2': 'ineuron', 'k3': 'kuamr', 100: 101, 102: 103},\n",
       " ['ineuron', 'datasciece']]"
      ]
     },
     "execution_count": 8,
     "metadata": {},
     "output_type": "execute_result"
    }
   ],
   "source": [
    "#Q5try to extract all the tuples entities\n",
    "l"
   ]
  },
  {
   "cell_type": "code",
   "execution_count": 9,
   "id": "b463b6b1",
   "metadata": {},
   "outputs": [
    {
     "name": "stdout",
     "output_type": "stream",
     "text": [
      "(5, 6, 7, 8, 9)\n",
      "(10, 11, 12, 13, 14)\n"
     ]
    }
   ],
   "source": [
    "for i in l:\n",
    "    if type(i)==tuple:\n",
    "        print(i)"
   ]
  },
  {
   "cell_type": "code",
   "execution_count": 10,
   "id": "7acb3006",
   "metadata": {},
   "outputs": [
    {
     "name": "stdout",
     "output_type": "stream",
     "text": [
      "1\n",
      "2\n",
      "3\n",
      "4\n",
      "5\n",
      "6\n",
      "7\n",
      "8\n",
      "9\n",
      "10\n",
      "11\n",
      "12\n",
      "13\n",
      "14\n",
      "99\n",
      "15\n",
      "16\n",
      "17\n",
      "18\n",
      "19\n",
      "20\n",
      "21\n",
      "101\n",
      "103\n",
      "100\n",
      "102\n"
     ]
    }
   ],
   "source": [
    "#Q6Tru to extract all numerical data, it may be part of dict keys and values\n",
    "for i in l:\n",
    "    if type(i)==int or type(i)== list or type(i)== tuple or type(i)==set:\n",
    "        for j in i:\n",
    "            if type(j)==int:\n",
    "                print(j)\n",
    "    if type(i)==dict:\n",
    "        for j in i.values():\n",
    "            if type(j)==int:\n",
    "                print(j)\n",
    "        for j in i.keys():\n",
    "            if type(j)==int:\n",
    "                print(j)\n",
    "        "
   ]
  },
  {
   "cell_type": "code",
   "execution_count": 11,
   "id": "234dbae1",
   "metadata": {},
   "outputs": [
    {
     "name": "stdout",
     "output_type": "stream",
     "text": [
      "1\n",
      "2\n",
      "3\n",
      "4\n",
      "5\n",
      "6\n",
      "7\n",
      "8\n",
      "9\n",
      "10\n",
      "11\n",
      "12\n",
      "13\n",
      "14\n",
      "99\n",
      "15\n",
      "16\n",
      "17\n",
      "18\n",
      "19\n",
      "20\n",
      "21\n",
      "101\n",
      "103\n",
      "100\n",
      "102\n"
     ]
    },
    {
     "data": {
      "text/plain": [
       "736"
      ]
     },
     "execution_count": 11,
     "metadata": {},
     "output_type": "execute_result"
    }
   ],
   "source": [
    "#Q7try to give summation of all numeric data\n",
    "sum=0\n",
    "for i in l:\n",
    "    if type(i)==int or type(i)== list or type(i)== tuple or type(i)==set:\n",
    "        for j in i:\n",
    "            if type(j)==int:\n",
    "                sum=sum+j\n",
    "                print(j)\n",
    "    if type(i)==dict:\n",
    "        for j in i.values():\n",
    "            if type(j)==int:\n",
    "                print(j)\n",
    "                sum=sum+j\n",
    "        for j in i.keys():\n",
    "            if type(j)==int:\n",
    "                print(j)\n",
    "                sum=sum+j\n",
    "sum"
   ]
  },
  {
   "cell_type": "code",
   "execution_count": 12,
   "id": "5594b18f",
   "metadata": {},
   "outputs": [],
   "source": [
    "#Q8 Try to filter out all the odd values out all numneric data which is part of list\n",
    "l=[[1,2,3,4],(5,6,7,8,9), (10,11,12,13,14),set([15,15,15,16,17,17,18,19,19,20,21,99]),\n",
    "   {\"k1\":\"sudh\", \"k2\": \"ineuron\", \"k3\":\"kuamr\",100:101,102:103},[\"ineuron\",\"datasciece\"]]"
   ]
  },
  {
   "cell_type": "code",
   "execution_count": 13,
   "id": "d3cb43c9",
   "metadata": {},
   "outputs": [
    {
     "name": "stdout",
     "output_type": "stream",
     "text": [
      "list  created is : [1, 2, 3, 4]\n",
      "odd nos in list are: [1, 3]\n"
     ]
    }
   ],
   "source": [
    "#sol:\n",
    "l1=[]\n",
    "for i in l:\n",
    "    if type(i)==list:\n",
    "        for j in i:\n",
    "            if type(j)==int:\n",
    "                #print(j)\n",
    "                l1.append(j)#list is created with all numbers\n",
    "print(\"list  created is :\", l1)\n",
    "odd=[]\n",
    "for i in l1:\n",
    "    if i%2 !=0:\n",
    "        #print(\"in list, odd number is  are\",i)\n",
    "        odd.append(i)\n",
    "print(\"odd nos in list are:\", odd)        "
   ]
  },
  {
   "cell_type": "code",
   "execution_count": 14,
   "id": "9e1a197b",
   "metadata": {},
   "outputs": [
    {
     "data": {
      "text/plain": [
       "[1, 3]"
      ]
     },
     "execution_count": 14,
     "metadata": {},
     "output_type": "execute_result"
    }
   ],
   "source": [
    "odd"
   ]
  },
  {
   "cell_type": "code",
   "execution_count": 15,
   "id": "6ca7b9b6",
   "metadata": {},
   "outputs": [],
   "source": [
    "#Q9try to extract \"ineuron\" out of this data"
   ]
  },
  {
   "cell_type": "code",
   "execution_count": 16,
   "id": "ed574459",
   "metadata": {},
   "outputs": [
    {
     "name": "stdout",
     "output_type": "stream",
     "text": [
      "ineuron\n",
      "ineuron\n"
     ]
    }
   ],
   "source": [
    "#sol\n",
    "l=[[1,2,3,4],(5,6,7,8,9), (10,11,12,13,14),set([15,15,15,16,17,17,18,19,19,20,21,99]),\n",
    "   {\"k1\":\"sudh\", \"k2\": \"ineuron\", \"k3\":\"kuamr\",100:101,102:103},[\"ineuron\",\"datasciece\"]]\n",
    "for i in l:\n",
    "    if type(i)==list or type(i)==str or type(i)==tuple or type(i)==set :\n",
    "        for j in i:\n",
    "            if j==\"ineuron\":\n",
    "                print(\"ineuron\")\n",
    "    if type(i)==dict:\n",
    "        for j in i.values():\n",
    "            if j ==\"ineuron\":\n",
    "                print(\"ineuron\")\n",
    "    "
   ]
  },
  {
   "cell_type": "code",
   "execution_count": 17,
   "id": "16eb3592",
   "metadata": {},
   "outputs": [
    {
     "name": "stdout",
     "output_type": "stream",
     "text": [
      "list obtained is: [1, 2, 3, 4, 5, 6, 7, 8, 9, 10, 11, 12, 13, 14, 99, 15, 16, 17, 18, 19, 20, 21, 'sudh', 'ineuron', 'kuamr', 101, 103, 'k1', 'k2', 'k3', 100, 102, 'ineuron', 'datasciece']\n",
      "count of 1  1\n",
      "count of 2  1\n",
      "count of 3  1\n",
      "count of 4  1\n",
      "count of 5  1\n",
      "count of 6  1\n",
      "count of 7  1\n",
      "count of 8  1\n",
      "count of 9  1\n",
      "count of 10  1\n",
      "count of 11  1\n",
      "count of 12  1\n",
      "count of 13  1\n",
      "count of 14  1\n",
      "count of 15  1\n",
      "count of 16  1\n",
      "count of 17  1\n",
      "count of 18  1\n",
      "count of 19  1\n",
      "count of 20  1\n",
      "count of 21  1\n",
      "count of sudh  1\n",
      "count of ineuron  2\n",
      "count of k2  1\n",
      "count of k3  1\n",
      "count of kuamr  1\n",
      "count of datasciece  1\n",
      "count of 99  1\n",
      "count of 100  1\n",
      "count of 101  1\n",
      "count of 102  1\n",
      "count of 103  1\n",
      "count of k1  1\n"
     ]
    }
   ],
   "source": [
    "#Q10: Tyy to find out number of occurences of all the data\n",
    "#try to give summation of all numeric data\n",
    "l=[[1,2,3,4],(5,6,7,8,9), (10,11,12,13,14),set([15,15,15,16,17,17,18,19,19,20,21,99]),\n",
    "   {\"k1\":\"sudh\", \"k2\": \"ineuron\", \"k3\":\"kuamr\",100:101,102:103},[\"ineuron\",\"datasciece\"]]\n",
    "l1=[]\n",
    "for i in l:\n",
    "    if type(i)==int or type(i)== list or type(i)== tuple or type(i)==set:\n",
    "        for j in i:\n",
    "            l1.append(j)\n",
    "                #print(j)\n",
    "    if type(i)==dict:\n",
    "        for j in i.values():\n",
    "            l1.append(j)\n",
    "                #print(j)\n",
    "        for j in i.keys():\n",
    "            l1.append(j)\n",
    "                #print(j)\n",
    "print(\"list obtained is:\",l1)\n",
    "set(l1)#conversion in to set to get unique values\n",
    "for i in set(l1):\n",
    "    print(\"count of\", i ,\"\", l1.count(i))"
   ]
  },
  {
   "cell_type": "code",
   "execution_count": 18,
   "id": "4c139609",
   "metadata": {},
   "outputs": [
    {
     "name": "stdout",
     "output_type": "stream",
     "text": [
      "Lsit obtained for keys are ['k1', 'k2', 'k3', 100, 102]\n",
      "number of keys are 5\n"
     ]
    }
   ],
   "source": [
    "#Q11rtry to find number of keys in dictionary element\n",
    "#sol:\n",
    "l=[[1,2,3,4],(5,6,7,8,9), (10,11,12,13,14),set([15,15,15,16,17,17,18,19,19,20,21,99]),\n",
    "   {\"k1\":\"sudh\", \"k2\": \"ineuron\", \"k3\":\"kuamr\",100:101,102:103},[\"ineuron\",\"datasciece\"]]\n",
    "l1=[]\n",
    "for i in l:\n",
    "    if type(i)==dict:\n",
    "        for j in i.keys():\n",
    "            l1.append(j)\n",
    "print(\"Lsit obtained for keys are\", l1)\n",
    "len(l1)\n",
    "print(\"number of keys are\", len(l1))\n",
    "# set(l1)\n",
    "# for i in set(l1):\n",
    "#     print(\"count of \",i,l1.count(i))"
   ]
  },
  {
   "cell_type": "code",
   "execution_count": 19,
   "id": "9e76c1a6",
   "metadata": {},
   "outputs": [
    {
     "data": {
      "text/plain": [
       "['sudh', 'ineuron', 'kuamr', 'k1', 'k2', 'k3', 'ineuron', 'datasciece']"
      ]
     },
     "execution_count": 19,
     "metadata": {},
     "output_type": "execute_result"
    }
   ],
   "source": [
    "#Q12: try to filter out all string data\n",
    "l=[[1,2,3,4],(5,6,7,8,9), (10,11,12,13,14),set([15,15,15,16,17,17,18,19,19,20,21,99]),\n",
    "   {\"k1\":\"sudh\", \"k2\": \"ineuron\", \"k3\":\"kuamr\",100:101,102:103},[\"ineuron\",\"datasciece\"]]\n",
    "l1=[]\n",
    "for i in l:\n",
    "    if type(i)==int or type(i)== list or type(i)== tuple or type(i)==set:\n",
    "        for j in i:\n",
    "            if type(j)==str:\n",
    "                #print(j)\n",
    "                l1.append(j)\n",
    "    if type(i)==dict:\n",
    "        for j in i.values():\n",
    "            if type(j)==str:\n",
    "                #print(j)\n",
    "                l1.append(j)\n",
    "        for j in i.keys():\n",
    "            if type(j)==str:\n",
    "                #print(j)\n",
    "                l1.append(j)\n",
    "l1"
   ]
  },
  {
   "cell_type": "code",
   "execution_count": 20,
   "id": "c18b8694",
   "metadata": {},
   "outputs": [
    {
     "name": "stdout",
     "output_type": "stream",
     "text": [
      "list of all values: [1, 2, 3, 4, 5, 6, 7, 8, 9, 10, 11, 12, 13, 14, 99, 15, 16, 17, 18, 19, 20, 21, 'sudh', 'ineuron', 'kuamr', 101, 103, 'k1', 'k2', 'k3', 100, 102, 'ineuron', 'datasciece']\n",
      "list of all strings: ['sudh', 'ineuron', 'kuamr', 'k1', 'k2', 'k3', 'ineuron', 'datasciece']\n"
     ]
    }
   ],
   "source": [
    "#Q13. Try to find out all alphanum()in data\n",
    "l=[[1,2,3,4],(5,6,7,8,9), (10,11,12,13,14),set([15,15,15,16,17,17,18,19,19,20,21,99]),\n",
    "   {\"k1\":\"sudh\", \"k2\": \"ineuron\", \"k3\":\"kuamr\",100:101,102:103},[\"ineuron\",\"datasciece\"]]\n",
    "l1=[]\n",
    "for i in l:\n",
    "    if type(i)==int or type(i)== list or type(i)== tuple or type(i)==set:\n",
    "        for j in i:\n",
    "            if type(j)==str or type(j)==int:\n",
    "                #print(j)\n",
    "                l1.append(j)\n",
    "    if type(i)==dict:\n",
    "        for j in i.values():\n",
    "            if type(j)==str or type(j)==int:\n",
    "                #print(j)\n",
    "                l1.append(j)\n",
    "        for j in i.keys():\n",
    "            if type(j)==str  or type(j)==int:\n",
    "                #print(j)\n",
    "                l1.append(j)\n",
    "print(\"list of all values:\", l1)# list of all values\n",
    "l2=[]# creating emplty list to store strings\n",
    "for i in l1:\n",
    "    if type(i)==str:\n",
    "        #print(i)\n",
    "        l2.append(i)\n",
    "print(\"list of all strings:\", l2)\n",
    "for i in l2:\n",
    "    if i.isalnum()==True and i.isdigit()==True:\n",
    "        print(i)\n",
    "        \n",
    "#unable to find out k1,k2"
   ]
  },
  {
   "cell_type": "code",
   "execution_count": 55,
   "id": "38ff21bc",
   "metadata": {},
   "outputs": [
    {
     "name": "stdout",
     "output_type": "stream",
     "text": [
      "list obtained for multiplication [1, 2, 3, 4]\n",
      "multoplication for list obtained [1, 2, 3, 4] : 24\n",
      "list obtained for multiplication of tuple [5, 6, 7, 8, 9]\n",
      "multoplication for list obtained [5, 6, 7, 8, 9] : 15120\n",
      "list obtained for multiplication of tuple [10, 11, 12, 13, 14]\n",
      "multoplication for list obtained [10, 11, 12, 13, 14] : 240240\n",
      "99\n",
      "15\n",
      "16\n",
      "17\n",
      "18\n",
      "19\n",
      "20\n",
      "21\n",
      "list obtained for multiplication of set [99, 15, 16, 17, 18, 19, 20, 21]\n",
      "multoplication for list obtained of set [99, 15, 16, 17, 18, 19, 20, 21] : 58019068800\n",
      "list obtained for multiplication of dict [101, 103, 100, 102]\n",
      "multoplication for list obtained of dict [101, 103, 100, 102] : 106110600\n"
     ]
    }
   ],
   "source": [
    "#Q14. Try to find out multiplication of all numeric value in individual collection in dataset\n",
    "l=[[1,2,3,4],(5,6,7,8,9), (10,11,12,13,14),set([15,15,15,16,17,17,18,19,19,20,21,99]),\n",
    "   {\"k1\":\"sudh\", \"k2\": \"ineuron\", \"k3\":\"kuamr\",100:101,102:103},[\"ineuron\",\"datasciece\"]]\n",
    "# printing for muktiplication for [1,2,3,4]\n",
    "mul = 1\n",
    "l1=[]\n",
    "for i in l:\n",
    "    if type(i)==list:\n",
    "        for j in i :\n",
    "            if type(j)==int or type(j)==float:\n",
    "                #print(j)\n",
    "                l1.append(j)\n",
    "print(\"list obtained for multiplication\",l1)\n",
    "mul=1\n",
    "for i in l1:\n",
    "    mul=mul*i\n",
    "print(\"multoplication for list obtained\",l1,\":\",mul)\n",
    "\n",
    "# printing for muktiplication for tupple 5,6,7,8,9)\n",
    "l1=[]\n",
    "for i in l:\n",
    "    if i == (5,6,7,8,9):\n",
    "        for j in i :\n",
    "            if type(j)==int or type(j)==float:\n",
    "                #print(j)\n",
    "                l1.append(j)\n",
    "print(\"list obtained for multiplication of tuple\",l1)\n",
    "mul=1\n",
    "for i in l1:\n",
    "    mul=mul*i\n",
    "print(\"multoplication for list obtained\",l1,\":\",mul)\n",
    "\n",
    "\n",
    "# printing for muktiplication for tupple (10,11,12,13,14)\n",
    "l1=[]\n",
    "for i in l:\n",
    "    if i == (10,11,12,13,14):\n",
    "        for j in i :\n",
    "            if type(j)==int or type(i)==float:\n",
    "                #print(j)\n",
    "                l1.append(j)\n",
    "print(\"list obtained for multiplication of tuple\",l1)\n",
    "mul=1\n",
    "for i in l1:\n",
    "    mul=mul*i\n",
    "print(\"multoplication for list obtained\",l1,\":\",mul)\n",
    "\n",
    "# printing for muktiplication for set([15,15,15,16,17,17,18,19,19,20,21,99]\n",
    "l1=[]\n",
    "for i in l:\n",
    "    if type(i) == set:\n",
    "        for j in i :\n",
    "            if type(j)==int or type(j)==float:\n",
    "                print(j)\n",
    "                l1.append(j)\n",
    "print(\"list obtained for multiplication of set\",l1)\n",
    "mul=1\n",
    "for i in l1:\n",
    "    mul=mul*i\n",
    "print(\"multoplication for list obtained of set\",l1,\":\",mul)\n",
    "#print for multiplication of dict values and keys\n",
    "l1=[]\n",
    "for i in l:\n",
    "    if type(i)==dict:\n",
    "        for j in i.values():\n",
    "            if type(j) ==int:\n",
    "                l1.append(j)\n",
    "        for j in i.keys():\n",
    "            if type(j)==int:\n",
    "                l1.append(j)\n",
    "l1\n",
    "print(\"list obtained for multiplication of dict\",l1)\n",
    "mul=1\n",
    "for i in l1:\n",
    "    mul=mul*i\n",
    "print(\"multoplication for list obtained of dict\",l1,\":\",mul)"
   ]
  },
  {
   "cell_type": "code",
   "execution_count": 22,
   "id": "49591695",
   "metadata": {},
   "outputs": [
    {
     "name": "stdout",
     "output_type": "stream",
     "text": [
      "list of all unwrap values: [1, 2, 3, 4, 5, 6, 7, 8, 9, 10, 11, 12, 13, 14, 99, 15, 16, 17, 18, 19, 20, 21, 'sudh', 'ineuron', 'kuamr', 101, 103, 'k1', 'k2', 'k3', 100, 102, 'ineuron', 'datasciece']\n"
     ]
    }
   ],
   "source": [
    "#Q15. Try to unwrap all the collection inside collection and create flat list:\n",
    "l=[[1,2,3,4],(5,6,7,8,9), (10,11,12,13,14),set([15,15,15,16,17,17,18,19,19,20,21,99]),\n",
    "   {\"k1\":\"sudh\", \"k2\": \"ineuron\", \"k3\":\"kuamr\",100:101,102:103},[\"ineuron\",\"datasciece\"]]\n",
    "l1=[]\n",
    "for i in l:\n",
    "    if type(i)==int or type(i)== list or type(i)== tuple or type(i)==set:\n",
    "        for j in i:\n",
    "            if type(j)==str or type(j)==int:\n",
    "                #print(j)\n",
    "                l1.append(j)\n",
    "    if type(i)==dict:\n",
    "        for j in i.values():\n",
    "            if type(j)==str or type(j)==int:\n",
    "                #print(j)\n",
    "                l1.append(j)\n",
    "        for j in i.keys():\n",
    "            if type(j)==str or type(j)==int:\n",
    "                #print(j)\n",
    "                l1.append(j)\n",
    "print(\"list of all unwrap values:\", l1)# list of all values"
   ]
  }
 ],
 "metadata": {
  "kernelspec": {
   "display_name": "Python 3 (ipykernel)",
   "language": "python",
   "name": "python3"
  },
  "language_info": {
   "codemirror_mode": {
    "name": "ipython",
    "version": 3
   },
   "file_extension": ".py",
   "mimetype": "text/x-python",
   "name": "python",
   "nbconvert_exporter": "python",
   "pygments_lexer": "ipython3",
   "version": "3.9.7"
  }
 },
 "nbformat": 4,
 "nbformat_minor": 5
}
